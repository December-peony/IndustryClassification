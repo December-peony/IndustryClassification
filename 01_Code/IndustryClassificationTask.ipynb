{
 "cells": [
  {
   "cell_type": "markdown",
   "metadata": {},
   "source": [
    "# IndustryClassificationTask\n",
    "### At first let's import the needed libraries"
   ]
  },
  {
   "cell_type": "code",
   "execution_count": 1,
   "metadata": {},
   "outputs": [],
   "source": [
    "import pandas as pd\n",
    "import numpy as np\n",
    "import matplotlib.pyplot as plt\n",
    "import seaborn as sns\n",
    "#from hyperopt import fmin, tpe, STATUS_OK, STATUS_FAIL, Trials\n",
    "from sklearn.model_selection import train_test_split\n",
    "#from nltk.tokenize import word_tokenize\n",
    "import re\n",
    "from sklearn.feature_extraction.text import CountVectorizer\n",
    "from sklearn.feature_extraction.text import TfidfTransformer\n",
    "#from sklearn.pipeline import Pipeline\n",
    "from sklearn.neural_network import MLPClassifier\n",
    "from sklearn.metrics import confusion_matrix\n",
    "from sklearn.metrics import classification_report\n",
    "from sklearn.metrics import f1_score\n",
    "from sklearn.linear_model import SGDClassifier\n",
    "from imblearn.over_sampling import RandomOverSampler\n",
    "from imblearn.pipeline import Pipeline\n",
    "from sklearn.model_selection import GridSearchCV\n",
    "# from nltk.corpus import stopwords\n",
    "from joblib import dump,load\n",
    "from imblearn.over_sampling import SMOTE"
   ]
  },
  {
   "cell_type": "code",
   "execution_count": 2,
   "metadata": {},
   "outputs": [
    {
     "name": "stdout",
     "output_type": "stream",
     "text": [
      "<class 'pandas.core.frame.DataFrame'>\n",
      "RangeIndex: 8586 entries, 0 to 8585\n",
      "Data columns (total 2 columns):\n",
      " #   Column     Non-Null Count  Dtype \n",
      "---  ------     --------------  ----- \n",
      " 0   job title  8586 non-null   object\n",
      " 1   industry   8586 non-null   object\n",
      "dtypes: object(2)\n",
      "memory usage: 134.3+ KB\n"
     ]
    }
   ],
   "source": [
    "#Reading the data as dataframe\n",
    "df = pd.read_csv('Job titles and industries.csv')\n",
    "df.info()"
   ]
  },
  {
   "cell_type": "code",
   "execution_count": 3,
   "metadata": {},
   "outputs": [
    {
     "data": {
      "text/plain": [
       "3890"
      ]
     },
     "execution_count": 3,
     "metadata": {},
     "output_type": "execute_result"
    }
   ],
   "source": [
    "#checking how many unique titles we have, I'll check again after cleaning to see the effect\n",
    "len(df['job title'].unique())"
   ]
  },
  {
   "cell_type": "code",
   "execution_count": 4,
   "metadata": {},
   "outputs": [],
   "source": [
    "#df.duplicated().sum()\n",
    "#df.drop_duplicates(keep = 'last', inplace = True)"
   ]
  },
  {
   "cell_type": "code",
   "execution_count": 5,
   "metadata": {},
   "outputs": [
    {
     "data": {
      "text/plain": [
       "industry\n",
       "Accountancy     374\n",
       "Education      1435\n",
       "IT             4746\n",
       "Marketing      2031\n",
       "Name: industry, dtype: int64"
      ]
     },
     "execution_count": 5,
     "metadata": {},
     "output_type": "execute_result"
    }
   ],
   "source": [
    "classes = df['industry'].unique()\n",
    "df.groupby('industry')['industry'].count()"
   ]
  },
  {
   "cell_type": "markdown",
   "metadata": {},
   "source": [
    "#### it seems that data is imbalanced\n",
    "i'll work first on cleaning the data then handle the imbalance later"
   ]
  },
  {
   "cell_type": "markdown",
   "metadata": {},
   "source": [
    "at first added the common words to remove, then i decided to remove 'manager' too becaude it was confusing the classifier! the data contains sales managers in IT, Marketing and education. with marketing the most. so i decided to remove the word."
   ]
  },
  {
   "cell_type": "code",
   "execution_count": 6,
   "metadata": {},
   "outputs": [],
   "source": [
    "def cleaning(df):\n",
    "    #Removing leading and tailing spaces\n",
    "    df['job_title_clean'] = df['job title'].str.strip()\n",
    "    #After some investigation found that after '-' charater isn't important\n",
    "    #So, I'll remove everything after '-'\n",
    "    df['job_title_clean'] = df['job_title_clean'].str.split('-')\n",
    "    df['job_title_clean'] = df['job_title_clean'].str[0]\n",
    "    # Making sure that all of the letters are lower\n",
    "    df[\"job_title_clean\"] = df[\"job_title_clean\"].str.lower()\n",
    "    #Removing unuseful words\n",
    "    words_to_remove = ['senior','junior','full','pre','mid','part','entry level','time','arabic','english'\n",
    "                       ,'up','to','based',' and',' &',' in',' of','manager']\n",
    "    for word in words_to_remove:\n",
    "        df[\"job_title_clean\"] = df[\"job_title_clean\"].str.replace(word, '')\n",
    "    #Keeping only words\n",
    "    df['job_title_clean'] = df.apply(lambda row: re.sub(r\"[^a-zA-Z ]\",\"\",row['job_title_clean']), axis=1)\n",
    "\n",
    "# stop = stopwords.words('english')"
   ]
  },
  {
   "cell_type": "markdown",
   "metadata": {},
   "source": [
    "### Splitting the data\n",
    "#### First, train and test\n",
    "will remove the dubplication from the train only and let the test as it"
   ]
  },
  {
   "cell_type": "code",
   "execution_count": 7,
   "metadata": {},
   "outputs": [
    {
     "name": "stderr",
     "output_type": "stream",
     "text": [
      "<ipython-input-7-26f09bb99e78>:4: SettingWithCopyWarning: \n",
      "A value is trying to be set on a copy of a slice from a DataFrame\n",
      "\n",
      "See the caveats in the documentation: https://pandas.pydata.org/pandas-docs/stable/user_guide/indexing.html#returning-a-view-versus-a-copy\n",
      "  train_df1.drop_duplicates(keep = 'last', inplace = True)\n"
     ]
    }
   ],
   "source": [
    "train_df1,test_df = train_test_split(df, test_size=0.5, random_state=42,stratify = df['industry'])\n",
    "X_test = test_df.drop(columns='industry')\n",
    "y_test = test_df['industry']\n",
    "train_df1.drop_duplicates(keep = 'last', inplace = True)"
   ]
  },
  {
   "cell_type": "markdown",
   "metadata": {},
   "source": [
    "#### Second, train and validation to use validation in model"
   ]
  },
  {
   "cell_type": "code",
   "execution_count": 8,
   "metadata": {},
   "outputs": [],
   "source": [
    "train_df2, val_df = train_test_split(train_df1, test_size=0.2, random_state=42,stratify = train_df1['industry'])\n",
    "X_train = train_df2.drop(columns='industry')\n",
    "y_train = train_df2['industry']\n",
    "\n",
    "X_val = val_df.drop(columns='industry')\n",
    "y_val = val_df['industry']"
   ]
  },
  {
   "cell_type": "markdown",
   "metadata": {},
   "source": [
    "### Cleaning the data"
   ]
  },
  {
   "cell_type": "code",
   "execution_count": 9,
   "metadata": {},
   "outputs": [],
   "source": [
    "cleaning(X_train)\n",
    "cleaning(X_val)\n",
    "cleaning(X_test)"
   ]
  },
  {
   "cell_type": "code",
   "execution_count": 10,
   "metadata": {},
   "outputs": [
    {
     "data": {
      "text/plain": [
       "3472"
      ]
     },
     "execution_count": 10,
     "metadata": {},
     "output_type": "execute_result"
    }
   ],
   "source": [
    "cleaning(df)\n",
    "len(df['job_title_clean'].unique())\n",
    "#df.info()"
   ]
  },
  {
   "cell_type": "markdown",
   "metadata": {},
   "source": [
    "it seems cleaning is doing effect"
   ]
  },
  {
   "cell_type": "markdown",
   "metadata": {},
   "source": [
    "### Trying MLP Model"
   ]
  },
  {
   "cell_type": "code",
   "execution_count": 11,
   "metadata": {},
   "outputs": [],
   "source": [
    "count_vect = CountVectorizer()\n",
    "X_train_counts = count_vect.fit_transform(X_train['job_title_clean'])\n",
    "tf_transformer = TfidfTransformer(use_idf=False).fit_transform(X_train_counts)\n",
    "len_n = tf_transformer.shape[1]\n",
    "\n",
    "# using SMOTE to handle imbalance\n",
    "MLP_clf = Pipeline([\n",
    "    ('vect', CountVectorizer(ngram_range=(1,4))),\n",
    "    ('tfidf', TfidfTransformer(use_idf=True)),\n",
    "    ('SMOTE', SMOTE(sampling_strategy='minority',random_state=42)),\n",
    "    ('clf', MLPClassifier(hidden_layer_sizes=128,max_iter=500,\n",
    "            early_stopping=True,solver='adam',learning_rate='adaptive',alpha=1e-4)),\n",
    "])\n",
    "\n",
    "#couldn't do the grid search it takes hours with no output!\n",
    "\n",
    "# parameters = {\n",
    "#     'vect__ngram_range': [(1, 1), (1, 2), (1, 3), (1, 4), ],\n",
    "#     'tfidf__use_idf': (True, False),\n",
    "#     'clf__random_state': (0, ),\n",
    "#     'clf__alpha': (1e-2, 1e-3, 1e-4, 0.1, 1e-5, ),\n",
    "#     'clf__hidden_layer_sizes': [(int(len_n/2), ), (int((len_n + 4)*(2/3)), ), (int(len_n/2), int(len_n/4))],\n",
    "#     'clf__activation': ['identity', 'logistic', 'tanh', 'relu'],\n",
    "#     'clf__solver': ['sgd', 'adam', 'lbfgs'],\n",
    "#     'clf__learning_rate': ['constant', 'adaptive'],\n",
    "#     'clf__validation_fraction': [0.1, 0.3, 0.5, 0.01]\n",
    "# }\n",
    "\n",
    "# mlp_clf = GridSearchCV(text_clf, parameters, cv=5, n_jobs=-1)"
   ]
  },
  {
   "cell_type": "code",
   "execution_count": 12,
   "metadata": {},
   "outputs": [
    {
     "data": {
      "text/plain": [
       "Pipeline(steps=[('vect', CountVectorizer(ngram_range=(1, 4))),\n",
       "                ('tfidf', TfidfTransformer()),\n",
       "                ('SMOTE', SMOTE(random_state=42, sampling_strategy='minority')),\n",
       "                ('clf',\n",
       "                 MLPClassifier(early_stopping=True, hidden_layer_sizes=128,\n",
       "                               learning_rate='adaptive', max_iter=500))])"
      ]
     },
     "execution_count": 12,
     "metadata": {},
     "output_type": "execute_result"
    }
   ],
   "source": [
    "MLP_clf.fit(X_train['job_title_clean'],y_train)"
   ]
  },
  {
   "cell_type": "code",
   "execution_count": 13,
   "metadata": {},
   "outputs": [
    {
     "name": "stdout",
     "output_type": "stream",
     "text": [
      "On the Trainig data: \n",
      "[[116   0   0   0]\n",
      " [  7 391  12  24]\n",
      " [  6   0 817  12]\n",
      " [  8   0  25 502]]\n",
      "              precision    recall  f1-score   support\n",
      "\n",
      " Accountancy       0.85      1.00      0.92       116\n",
      "   Education       1.00      0.90      0.95       434\n",
      "          IT       0.96      0.98      0.97       835\n",
      "   Marketing       0.93      0.94      0.94       535\n",
      "\n",
      "    accuracy                           0.95      1920\n",
      "   macro avg       0.93      0.95      0.94      1920\n",
      "weighted avg       0.95      0.95      0.95      1920\n",
      "\n",
      "\n",
      "On validation data: \n",
      "[[ 22   0   4   3]\n",
      " [  0  88  10  11]\n",
      " [  3   0 202   4]\n",
      " [  5   3  19 106]]\n",
      "              precision    recall  f1-score   support\n",
      "\n",
      " Accountancy       0.73      0.76      0.75        29\n",
      "   Education       0.97      0.81      0.88       109\n",
      "          IT       0.86      0.97      0.91       209\n",
      "   Marketing       0.85      0.80      0.82       133\n",
      "\n",
      "    accuracy                           0.87       480\n",
      "   macro avg       0.85      0.83      0.84       480\n",
      "weighted avg       0.88      0.87      0.87       480\n",
      "\n"
     ]
    }
   ],
   "source": [
    "#On training and validation\n",
    "pred_y_train = MLP_clf.predict(X_train['job_title_clean'])\n",
    "pred_y_val = MLP_clf.predict(X_val['job_title_clean'])\n",
    "\n",
    "print(\"On the Trainig data: \")\n",
    "print(confusion_matrix(y_train, pred_y_train))\n",
    "print(classification_report(y_train, pred_y_train))\n",
    "\n",
    "print(\"\\nOn validation data: \")\n",
    "print(confusion_matrix(y_val, pred_y_val))\n",
    "print(classification_report(y_val, pred_y_val))"
   ]
  },
  {
   "cell_type": "code",
   "execution_count": 26,
   "metadata": {},
   "outputs": [
    {
     "name": "stdout",
     "output_type": "stream",
     "text": [
      "              precision    recall  f1-score   support\n",
      "\n",
      " Accountancy       0.70      0.89      0.78       187\n",
      "   Education       0.98      0.82      0.90       718\n",
      "          IT       0.94      0.97      0.95      2373\n",
      "   Marketing       0.89      0.88      0.88      1015\n",
      "\n",
      "    accuracy                           0.92      4293\n",
      "   macro avg       0.88      0.89      0.88      4293\n",
      "weighted avg       0.92      0.92      0.92      4293\n",
      "\n"
     ]
    },
    {
     "data": {
      "image/png": "[encoded data removed]",
      "text/plain": [
       "<Figure size 432x288 with 1 Axes>"
      ]
     },
     "metadata": {
      "needs_background": "light"
     },
     "output_type": "display_data"
    }
   ],
   "source": [
    "#On testing\n",
    "classes = ['Accountancy','Education','IT','Marketing']\n",
    "pred_y_test = MLP_clf.predict(X_test['job_title_clean'])\n",
    "print(classification_report(y_test, pred_y_test))\n",
    "mat = (confusion_matrix(y_test,pred_y_test)).T\n",
    "sns.heatmap(mat, square=True, annot=True, fmt='d', cbar=False,\n",
    "            xticklabels=classes, yticklabels=classes)\n",
    "\n",
    "plt.xlabel('true label')\n",
    "plt.ylabel('predicted label')\n",
    "plt.show()\n"
   ]
  },
  {
   "cell_type": "code",
   "execution_count": 15,
   "metadata": {},
   "outputs": [
    {
     "data": {
      "text/plain": [
       "['MLPModel1.joblib']"
      ]
     },
     "execution_count": 15,
     "metadata": {},
     "output_type": "execute_result"
    }
   ],
   "source": [
    "# Saving the model\n",
    "dump(MLP_clf,'MLPModel1.joblib')"
   ]
  },
  {
   "cell_type": "code",
   "execution_count": 30,
   "metadata": {},
   "outputs": [
    {
     "name": "stdout",
     "output_type": "stream",
     "text": [
      "F1 Score =  0.8787836810738296\n"
     ]
    }
   ],
   "source": [
    "from sklearn.metrics import f1_score\n",
    "print(\"F1 Score = \", f1_score(y_test, pred_y_test,average='macro'))"
   ]
  },
  {
   "cell_type": "markdown",
   "metadata": {},
   "source": [
    "# SGD Classifier"
   ]
  },
  {
   "cell_type": "code",
   "execution_count": 37,
   "metadata": {},
   "outputs": [],
   "source": [
    "clf_SGD_pipeline = Pipeline([\n",
    "    ('vect', CountVectorizer(stop_words='english')),\n",
    "    ('tfidf', TfidfTransformer()),\n",
    "    ('clf', SGDClassifier()),\n",
    "])\n",
    "# using class weight balanced to handle imbalance\n",
    "parameters = {\n",
    "    'vect__ngram_range': [(1, 1), (1, 2), (1, 3), (1, 4), ],\n",
    "    'tfidf__use_idf': (True, False),\n",
    "    'clf__random_state': (0, ),\n",
    "    'clf__alpha': (1e-2, 1e-3, 1e-4, 0.1, 1e-6, ),\n",
    "    'clf__max_iter': (2, 5, 10, 20, 100, 200,500),\n",
    "    'clf__class_weight': ['balanced'],\n",
    "    'clf__penalty': ['none', 'l2', 'l1', 'elasticnet'],\n",
    "    'clf__loss': ['hinge','perceptron','log']\n",
    "}\n",
    "\n",
    "sgd_clf_gscv = GridSearchCV(clf_SGD_pipeline, parameters, cv=5,  n_jobs=-1)"
   ]
  },
  {
   "cell_type": "code",
   "execution_count": 38,
   "metadata": {},
   "outputs": [
    {
     "name": "stderr",
     "output_type": "stream",
     "text": [
      "C:\\Users\\trast\\anaconda3\\lib\\site-packages\\sklearn\\linear_model\\_stochastic_gradient.py:574: ConvergenceWarning: Maximum number of iteration reached before convergence. Consider increasing max_iter to improve the fit.\n",
      "  warnings.warn(\"Maximum number of iteration reached before \"\n"
     ]
    },
    {
     "data": {
      "text/plain": [
       "GridSearchCV(cv=5,\n",
       "             estimator=Pipeline(steps=[('vect',\n",
       "                                        CountVectorizer(stop_words='english')),\n",
       "                                       ('tfidf', TfidfTransformer()),\n",
       "                                       ('clf', SGDClassifier())]),\n",
       "             n_jobs=-1,\n",
       "             param_grid={'clf__alpha': (0.01, 0.001, 0.0001, 0.1, 1e-06),\n",
       "                         'clf__class_weight': ['balanced'],\n",
       "                         'clf__loss': ['hinge', 'perceptron', 'log'],\n",
       "                         'clf__max_iter': (2, 5, 10, 20, 100, 200, 500),\n",
       "                         'clf__penalty': ['none', 'l2', 'l1', 'elasticnet'],\n",
       "                         'clf__random_state': (0,),\n",
       "                         'tfidf__use_idf': (True, False),\n",
       "                         'vect__ngram_range': [(1, 1), (1, 2), (1, 3), (1, 4)]})"
      ]
     },
     "execution_count": 38,
     "metadata": {},
     "output_type": "execute_result"
    }
   ],
   "source": [
    "sgd_clf_gscv.fit(X_train['job_title_clean'],y_train)"
   ]
  },
  {
   "cell_type": "code",
   "execution_count": 39,
   "metadata": {},
   "outputs": [
    {
     "name": "stdout",
     "output_type": "stream",
     "text": [
      "On the Trainig data: \n",
      "[[115   0   1   0]\n",
      " [  4 406   4  20]\n",
      " [  3  16 791  25]\n",
      " [  7   6  17 505]]\n",
      "              precision    recall  f1-score   support\n",
      "\n",
      " Accountancy       0.89      0.99      0.94       116\n",
      "   Education       0.95      0.94      0.94       434\n",
      "          IT       0.97      0.95      0.96       835\n",
      "   Marketing       0.92      0.94      0.93       535\n",
      "\n",
      "    accuracy                           0.95      1920\n",
      "   macro avg       0.93      0.95      0.94      1920\n",
      "weighted avg       0.95      0.95      0.95      1920\n",
      "\n",
      "\n",
      "On validation data: \n",
      "[[ 21   2   2   4]\n",
      " [  0  96   4   9]\n",
      " [  0  13 182  14]\n",
      " [  3  13  11 106]]\n",
      "              precision    recall  f1-score   support\n",
      "\n",
      " Accountancy       0.88      0.72      0.79        29\n",
      "   Education       0.77      0.88      0.82       109\n",
      "          IT       0.91      0.87      0.89       209\n",
      "   Marketing       0.80      0.80      0.80       133\n",
      "\n",
      "    accuracy                           0.84       480\n",
      "   macro avg       0.84      0.82      0.83       480\n",
      "weighted avg       0.85      0.84      0.84       480\n",
      "\n"
     ]
    }
   ],
   "source": [
    "model = sgd_clf_gscv.best_estimator_\n",
    "pred_y_train_sgd = model.predict(X_train['job_title_clean'])\n",
    "pred_y_val_sgd = model.predict(X_val['job_title_clean'])\n",
    "\n",
    "print(\"On the Trainig data: \")\n",
    "print(confusion_matrix(y_train, pred_y_train_sgd))\n",
    "print(classification_report(y_train, pred_y_train_sgd))\n",
    "\n",
    "print(\"\\nOn validation data: \")\n",
    "print(confusion_matrix(y_val, pred_y_val_sgd))\n",
    "print(classification_report(y_val, pred_y_val_sgd))"
   ]
  },
  {
   "cell_type": "code",
   "execution_count": 40,
   "metadata": {},
   "outputs": [
    {
     "name": "stdout",
     "output_type": "stream",
     "text": [
      "              precision    recall  f1-score   support\n",
      "\n",
      " Accountancy       0.79      0.84      0.81       187\n",
      "   Education       0.85      0.88      0.86       718\n",
      "          IT       0.97      0.92      0.94      2373\n",
      "   Marketing       0.85      0.91      0.88      1015\n",
      "\n",
      "    accuracy                           0.91      4293\n",
      "   macro avg       0.86      0.89      0.87      4293\n",
      "weighted avg       0.91      0.91      0.91      4293\n",
      "\n"
     ]
    },
    {
     "data": {
      "image/png": "[encoded data removed]",
      "text/plain": [
       "<Figure size 432x288 with 1 Axes>"
      ]
     },
     "metadata": {
      "needs_background": "light"
     },
     "output_type": "display_data"
    }
   ],
   "source": [
    "pred_y_test_sgd = model.predict(X_test['job_title_clean'])\n",
    "\n",
    "\n",
    "print(classification_report(y_test, pred_y_test_sgd))\n",
    "mat = (confusion_matrix(y_test,pred_y_test)).T\n",
    "sns.heatmap(mat, square=True, annot=True, fmt='d', cbar=False,\n",
    "            xticklabels=classes, yticklabels=classes)\n",
    "\n",
    "plt.xlabel('true label')\n",
    "plt.ylabel('predicted label')\n",
    "plt.show()"
   ]
  },
  {
   "cell_type": "code",
   "execution_count": 43,
   "metadata": {},
   "outputs": [
    {
     "data": {
      "text/plain": [
       "['SGDModel1.joblib']"
      ]
     },
     "execution_count": 43,
     "metadata": {},
     "output_type": "execute_result"
    }
   ],
   "source": [
    "dump(model,'SGDModel1.joblib')"
   ]
  },
  {
   "cell_type": "code",
   "execution_count": 42,
   "metadata": {},
   "outputs": [
    {
     "data": {
      "text/plain": [
       "{'clf__alpha': 0.0001,\n",
       " 'clf__class_weight': 'balanced',\n",
       " 'clf__loss': 'log',\n",
       " 'clf__max_iter': 10,\n",
       " 'clf__penalty': 'l2',\n",
       " 'clf__random_state': 0,\n",
       " 'tfidf__use_idf': True,\n",
       " 'vect__ngram_range': (1, 1)}"
      ]
     },
     "execution_count": 42,
     "metadata": {},
     "output_type": "execute_result"
    }
   ],
   "source": [
    "sgd_clf_gscv.best_params_"
   ]
  },
  {
   "cell_type": "markdown",
   "metadata": {},
   "source": [
    "# Flask app\n",
    "### uncomment this and run if you want to work from here not from the virtual environment"
   ]
  },
  {
   "cell_type": "markdown",
   "metadata": {},
   "source": [
    "example: /?jobtitle='full stack developer, oxfordshire, Â£40k'"
   ]
  },
  {
   "cell_type": "code",
   "execution_count": 22,
   "metadata": {},
   "outputs": [],
   "source": [
    "def cleaning_word(title):\n",
    "    #Removing leading and tailing spaces\n",
    "    title_cleaned = title.strip()\n",
    "    title_cleaned = title_cleaned.split('-')\n",
    "    title_cleaned = title_cleaned[0]\n",
    "    # Making sure that all of the letters are lower\n",
    "    title_cleaned = title_cleaned.lower()\n",
    "    #Removing unuseful words\n",
    "    words_to_remove = ['senior','junior','full','pre','mid','part','entry level','time','arabic','english'\n",
    "                       ,'up','to','based',' and',' &',' in',' of']\n",
    "    for word in words_to_remove:\n",
    "        title_cleaned = title_cleaned.replace(word, '')\n",
    "    #Keeping only words\n",
    "    title_cleaned = re.sub(r\"[^a-zA-Z ]\",\"\",title_cleaned)\n",
    "    return title_cleaned"
   ]
  },
  {
   "cell_type": "code",
   "execution_count": 31,
   "metadata": {},
   "outputs": [
    {
     "name": "stderr",
     "output_type": "stream",
     "text": [
      " * Running on http://localhost:9000/ (Press CTRL+C to quit)\n",
      "127.0.0.1 - - [20/Sep/2021 13:24:06] \"\u001b[37mGET / HTTP/1.1\u001b[0m\" 200 -\n",
      "127.0.0.1 - - [20/Sep/2021 13:24:06] \"\u001b[33mGET /favicon.ico HTTP/1.1\u001b[0m\" 404 -\n",
      "127.0.0.1 - - [20/Sep/2021 13:24:30] \"\u001b[37mGET /?jobtitle=%27sales%20engineer%27 HTTP/1.1\u001b[0m\" 200 -\n",
      "127.0.0.1 - - [20/Sep/2021 13:24:40] \"\u001b[37mGET /?jobtitle=%27sales%20manager%27 HTTP/1.1\u001b[0m\" 200 -\n"
     ]
    }
   ],
   "source": [
    "from werkzeug.wrappers import Request, Response\n",
    "from flask import Flask\n",
    "from flask import request\n",
    "from werkzeug.serving import run_simple\n",
    "\n",
    "app = Flask(__name__)\n",
    "\n",
    "@app.route(\"/\")\n",
    "def hello():\n",
    "    if (request.args.get('jobtitle')):\n",
    "        job_title = request.args.get('jobtitle')\n",
    "        jobtitle_cleaned = cleaning_word(job_title)\n",
    "        return list(model.predict([jobtitle_cleaned]))[0]\n",
    "    else:\n",
    "        return \"Hello! enter jobtitle parameter\"\n",
    "\n",
    "\n",
    "    \n",
    "run_simple('localhost', 9000, app)"
   ]
  },
  {
   "cell_type": "code",
   "execution_count": null,
   "metadata": {},
   "outputs": [],
   "source": []
  }
 ],
 "metadata": {
  "kernelspec": {
   "display_name": "Python 3",
   "language": "python",
   "name": "python3"
  },
  "language_info": {
   "codemirror_mode": {
    "name": "ipython",
    "version": 3
   },
   "file_extension": ".py",
   "mimetype": "text/x-python",
   "name": "python",
   "nbconvert_exporter": "python",
   "pygments_lexer": "ipython3",
   "version": "3.8.5"
  }
 },
 "nbformat": 4,
 "nbformat_minor": 4
}
